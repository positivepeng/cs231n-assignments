{
 "cells": [
  {
   "cell_type": "markdown",
   "metadata": {
    "tags": [
     "pdf-title"
    ]
   },
   "source": [
    "# Softmax exercise\n",
    "\n",
    "*Complete and hand in this completed worksheet (including its outputs and any supporting code outside of the worksheet) with your assignment submission. For more details see the [assignments page](http://vision.stanford.edu/teaching/cs231n/assignments.html) on the course website.*\n",
    "\n",
    "This exercise is analogous to the SVM exercise. You will:\n",
    "\n",
    "- implement a fully-vectorized **loss function** for the Softmax classifier\n",
    "- implement the fully-vectorized expression for its **analytic gradient**\n",
    "- **check your implementation** with numerical gradient\n",
    "- use a validation set to **tune the learning rate and regularization** strength\n",
    "- **optimize** the loss function with **SGD**\n",
    "- **visualize** the final learned weights\n"
   ]
  },
  {
   "cell_type": "code",
   "execution_count": 1,
   "metadata": {
    "tags": [
     "pdf-ignore"
    ]
   },
   "outputs": [],
   "source": [
    "import random\n",
    "import numpy as np\n",
    "from cs231n.data_utils import load_CIFAR10\n",
    "import matplotlib.pyplot as plt\n",
    "\n",
    "%matplotlib inline\n",
    "plt.rcParams['figure.figsize'] = (10.0, 8.0) # set default size of plots\n",
    "plt.rcParams['image.interpolation'] = 'nearest'\n",
    "plt.rcParams['image.cmap'] = 'gray'\n",
    "\n",
    "# for auto-reloading extenrnal modules\n",
    "# see http://stackoverflow.com/questions/1907993/autoreload-of-modules-in-ipython\n",
    "%load_ext autoreload\n",
    "%autoreload 2"
   ]
  },
  {
   "cell_type": "code",
   "execution_count": 2,
   "metadata": {
    "tags": [
     "pdf-ignore"
    ]
   },
   "outputs": [
    {
     "name": "stdout",
     "output_type": "stream",
     "text": [
      "Train data shape:  (49000, 3073)\n",
      "Train labels shape:  (49000,)\n",
      "Validation data shape:  (1000, 3073)\n",
      "Validation labels shape:  (1000,)\n",
      "Test data shape:  (1000, 3073)\n",
      "Test labels shape:  (1000,)\n",
      "dev data shape:  (500, 3073)\n",
      "dev labels shape:  (500,)\n"
     ]
    }
   ],
   "source": [
    "def get_CIFAR10_data(num_training=49000, num_validation=1000, num_test=1000, num_dev=500):\n",
    "    \"\"\"\n",
    "    Load the CIFAR-10 dataset from disk and perform preprocessing to prepare\n",
    "    it for the linear classifier. These are the same steps as we used for the\n",
    "    SVM, but condensed to a single function.  \n",
    "    \"\"\"\n",
    "    # Load the raw CIFAR-10 data\n",
    "    cifar10_dir = r'G:\\Desktop\\cs231n\\assignment1\\cs231n\\cifar-10-batches-py'\n",
    "    \n",
    "    # Cleaning up variables to prevent loading data multiple times (which may cause memory issue)\n",
    "    try:\n",
    "        del X_train, y_train\n",
    "        del X_test, y_test\n",
    "        print('Clear previously loaded data.')\n",
    "    except:\n",
    "        pass\n",
    "\n",
    "    X_train, y_train, X_test, y_test = load_CIFAR10(cifar10_dir)\n",
    "    \n",
    "    # subsample the data\n",
    "    mask = list(range(num_training, num_training + num_validation))\n",
    "    X_val = X_train[mask]\n",
    "    y_val = y_train[mask]\n",
    "    mask = list(range(num_training))\n",
    "    X_train = X_train[mask]\n",
    "    y_train = y_train[mask]\n",
    "    mask = list(range(num_test))\n",
    "    X_test = X_test[mask]\n",
    "    y_test = y_test[mask]\n",
    "    mask = np.random.choice(num_training, num_dev, replace=False)\n",
    "    X_dev = X_train[mask]\n",
    "    y_dev = y_train[mask]\n",
    "    \n",
    "    # Preprocessing: reshape the image data into rows\n",
    "    X_train = np.reshape(X_train, (X_train.shape[0], -1))\n",
    "    X_val = np.reshape(X_val, (X_val.shape[0], -1))\n",
    "    X_test = np.reshape(X_test, (X_test.shape[0], -1))\n",
    "    X_dev = np.reshape(X_dev, (X_dev.shape[0], -1))\n",
    "    \n",
    "    # Normalize the data: subtract the mean image\n",
    "    mean_image = np.mean(X_train, axis = 0)\n",
    "    X_train -= mean_image\n",
    "    X_val -= mean_image\n",
    "    X_test -= mean_image\n",
    "    X_dev -= mean_image\n",
    "    \n",
    "    # add bias dimension and transform into columns\n",
    "    X_train = np.hstack([X_train, np.ones((X_train.shape[0], 1))])\n",
    "    X_val = np.hstack([X_val, np.ones((X_val.shape[0], 1))])\n",
    "    X_test = np.hstack([X_test, np.ones((X_test.shape[0], 1))])\n",
    "    X_dev = np.hstack([X_dev, np.ones((X_dev.shape[0], 1))])\n",
    "    \n",
    "    return X_train, y_train, X_val, y_val, X_test, y_test, X_dev, y_dev\n",
    "\n",
    "\n",
    "# Invoke the above function to get our data.\n",
    "X_train, y_train, X_val, y_val, X_test, y_test, X_dev, y_dev = get_CIFAR10_data()\n",
    "print('Train data shape: ', X_train.shape)\n",
    "print('Train labels shape: ', y_train.shape)\n",
    "print('Validation data shape: ', X_val.shape)\n",
    "print('Validation labels shape: ', y_val.shape)\n",
    "print('Test data shape: ', X_test.shape)\n",
    "print('Test labels shape: ', y_test.shape)\n",
    "print('dev data shape: ', X_dev.shape)\n",
    "print('dev labels shape: ', y_dev.shape)"
   ]
  },
  {
   "cell_type": "markdown",
   "metadata": {},
   "source": [
    "## Softmax Classifier\n",
    "\n",
    "Your code for this section will all be written inside **cs231n/classifiers/softmax.py**. \n"
   ]
  },
  {
   "cell_type": "code",
   "execution_count": 31,
   "metadata": {},
   "outputs": [
    {
     "name": "stdout",
     "output_type": "stream",
     "text": [
      "loss: 2.302193\n",
      "sanity check: 2.302585\n"
     ]
    }
   ],
   "source": [
    "# First implement the naive softmax loss function with nested loops.\n",
    "# Open the file cs231n/classifiers/softmax.py and implement the\n",
    "# softmax_loss_naive function.\n",
    "\n",
    "from cs231n.classifiers.softmax import softmax_loss_naive\n",
    "import time\n",
    "\n",
    "# Generate a random softmax weight matrix and use it to compute the loss.\n",
    "W = np.random.randn(3073, 10) * 0.00001\n",
    "loss, grad = softmax_loss_naive(W, X_dev, y_dev, 0.0)\n",
    "\n",
    "# As a rough sanity check, our loss should be something close to -log(0.1).\n",
    "print('loss: %f' % loss)\n",
    "print('sanity check: %f' % (-np.log(0.1)))"
   ]
  },
  {
   "cell_type": "markdown",
   "metadata": {
    "tags": [
     "pdf-inline"
    ]
   },
   "source": [
    "**Inline Question 1**\n",
    "\n",
    "Why do we expect our loss to be close to -log(0.1)? Explain briefly.**\n",
    "\n",
    "$\\color{blue}{\\textit Your Answer:}$ *Because the value of the elements of W is so small at first,when we use it to multiply X,the results is so small,so the $loss_i$ approximately equals to -log(1/C) so we expect our loss to be close to -log(1/10)* \n",
    "\n"
   ]
  },
  {
   "cell_type": "code",
   "execution_count": 32,
   "metadata": {},
   "outputs": [
    {
     "name": "stdout",
     "output_type": "stream",
     "text": [
      "numerical: 1.530841 analytic: 1.530841, relative error: 2.571627e-08\n",
      "numerical: 1.520262 analytic: 1.520262, relative error: 5.162612e-09\n",
      "numerical: 0.038584 analytic: 0.038584, relative error: 7.084684e-07\n"
     ]
    },
    {
     "ename": "KeyboardInterrupt",
     "evalue": "",
     "output_type": "error",
     "traceback": [
      "\u001b[1;31m---------------------------------------------------------------------------\u001b[0m",
      "\u001b[1;31mKeyboardInterrupt\u001b[0m                         Traceback (most recent call last)",
      "\u001b[1;32m<ipython-input-32-014f70aedb58>\u001b[0m in \u001b[0;36m<module>\u001b[1;34m()\u001b[0m\n\u001b[0;32m      7\u001b[0m \u001b[1;32mfrom\u001b[0m \u001b[0mcs231n\u001b[0m\u001b[1;33m.\u001b[0m\u001b[0mgradient_check\u001b[0m \u001b[1;32mimport\u001b[0m \u001b[0mgrad_check_sparse\u001b[0m\u001b[1;33m\u001b[0m\u001b[0m\n\u001b[0;32m      8\u001b[0m \u001b[0mf\u001b[0m \u001b[1;33m=\u001b[0m \u001b[1;32mlambda\u001b[0m \u001b[0mw\u001b[0m\u001b[1;33m:\u001b[0m \u001b[0msoftmax_loss_naive\u001b[0m\u001b[1;33m(\u001b[0m\u001b[0mw\u001b[0m\u001b[1;33m,\u001b[0m \u001b[0mX_dev\u001b[0m\u001b[1;33m,\u001b[0m \u001b[0my_dev\u001b[0m\u001b[1;33m,\u001b[0m \u001b[1;36m0.0\u001b[0m\u001b[1;33m)\u001b[0m\u001b[1;33m[\u001b[0m\u001b[1;36m0\u001b[0m\u001b[1;33m]\u001b[0m\u001b[1;33m\u001b[0m\u001b[0m\n\u001b[1;32m----> 9\u001b[1;33m \u001b[0mgrad_numerical\u001b[0m \u001b[1;33m=\u001b[0m \u001b[0mgrad_check_sparse\u001b[0m\u001b[1;33m(\u001b[0m\u001b[0mf\u001b[0m\u001b[1;33m,\u001b[0m \u001b[0mW\u001b[0m\u001b[1;33m,\u001b[0m \u001b[0mgrad\u001b[0m\u001b[1;33m,\u001b[0m \u001b[1;36m10\u001b[0m\u001b[1;33m)\u001b[0m\u001b[1;33m\u001b[0m\u001b[0m\n\u001b[0m\u001b[0;32m     10\u001b[0m \u001b[1;33m\u001b[0m\u001b[0m\n\u001b[0;32m     11\u001b[0m \u001b[1;31m# similar to SVM case, do another gradient check with regularization\u001b[0m\u001b[1;33m\u001b[0m\u001b[1;33m\u001b[0m\u001b[0m\n",
      "\u001b[1;32mG:\\Desktop\\cs231n\\assignment1\\cs231n\\gradient_check.py\u001b[0m in \u001b[0;36mgrad_check_sparse\u001b[1;34m(f, x, analytic_grad, num_checks, h)\u001b[0m\n\u001b[0;32m    117\u001b[0m         \u001b[0moldval\u001b[0m \u001b[1;33m=\u001b[0m \u001b[0mx\u001b[0m\u001b[1;33m[\u001b[0m\u001b[0mix\u001b[0m\u001b[1;33m]\u001b[0m\u001b[1;33m\u001b[0m\u001b[0m\n\u001b[0;32m    118\u001b[0m         \u001b[0mx\u001b[0m\u001b[1;33m[\u001b[0m\u001b[0mix\u001b[0m\u001b[1;33m]\u001b[0m \u001b[1;33m=\u001b[0m \u001b[0moldval\u001b[0m \u001b[1;33m+\u001b[0m \u001b[0mh\u001b[0m \u001b[1;31m# increment by h\u001b[0m\u001b[1;33m\u001b[0m\u001b[0m\n\u001b[1;32m--> 119\u001b[1;33m         \u001b[0mfxph\u001b[0m \u001b[1;33m=\u001b[0m \u001b[0mf\u001b[0m\u001b[1;33m(\u001b[0m\u001b[0mx\u001b[0m\u001b[1;33m)\u001b[0m \u001b[1;31m# evaluate f(x + h)\u001b[0m\u001b[1;33m\u001b[0m\u001b[0m\n\u001b[0m\u001b[0;32m    120\u001b[0m         \u001b[0mx\u001b[0m\u001b[1;33m[\u001b[0m\u001b[0mix\u001b[0m\u001b[1;33m]\u001b[0m \u001b[1;33m=\u001b[0m \u001b[0moldval\u001b[0m \u001b[1;33m-\u001b[0m \u001b[0mh\u001b[0m \u001b[1;31m# increment by h\u001b[0m\u001b[1;33m\u001b[0m\u001b[0m\n\u001b[0;32m    121\u001b[0m         \u001b[0mfxmh\u001b[0m \u001b[1;33m=\u001b[0m \u001b[0mf\u001b[0m\u001b[1;33m(\u001b[0m\u001b[0mx\u001b[0m\u001b[1;33m)\u001b[0m \u001b[1;31m# evaluate f(x - h)\u001b[0m\u001b[1;33m\u001b[0m\u001b[0m\n",
      "\u001b[1;32m<ipython-input-32-014f70aedb58>\u001b[0m in \u001b[0;36m<lambda>\u001b[1;34m(w)\u001b[0m\n\u001b[0;32m      6\u001b[0m \u001b[1;31m# The numeric gradient should be close to the analytic gradient.\u001b[0m\u001b[1;33m\u001b[0m\u001b[1;33m\u001b[0m\u001b[0m\n\u001b[0;32m      7\u001b[0m \u001b[1;32mfrom\u001b[0m \u001b[0mcs231n\u001b[0m\u001b[1;33m.\u001b[0m\u001b[0mgradient_check\u001b[0m \u001b[1;32mimport\u001b[0m \u001b[0mgrad_check_sparse\u001b[0m\u001b[1;33m\u001b[0m\u001b[0m\n\u001b[1;32m----> 8\u001b[1;33m \u001b[0mf\u001b[0m \u001b[1;33m=\u001b[0m \u001b[1;32mlambda\u001b[0m \u001b[0mw\u001b[0m\u001b[1;33m:\u001b[0m \u001b[0msoftmax_loss_naive\u001b[0m\u001b[1;33m(\u001b[0m\u001b[0mw\u001b[0m\u001b[1;33m,\u001b[0m \u001b[0mX_dev\u001b[0m\u001b[1;33m,\u001b[0m \u001b[0my_dev\u001b[0m\u001b[1;33m,\u001b[0m \u001b[1;36m0.0\u001b[0m\u001b[1;33m)\u001b[0m\u001b[1;33m[\u001b[0m\u001b[1;36m0\u001b[0m\u001b[1;33m]\u001b[0m\u001b[1;33m\u001b[0m\u001b[0m\n\u001b[0m\u001b[0;32m      9\u001b[0m \u001b[0mgrad_numerical\u001b[0m \u001b[1;33m=\u001b[0m \u001b[0mgrad_check_sparse\u001b[0m\u001b[1;33m(\u001b[0m\u001b[0mf\u001b[0m\u001b[1;33m,\u001b[0m \u001b[0mW\u001b[0m\u001b[1;33m,\u001b[0m \u001b[0mgrad\u001b[0m\u001b[1;33m,\u001b[0m \u001b[1;36m10\u001b[0m\u001b[1;33m)\u001b[0m\u001b[1;33m\u001b[0m\u001b[0m\n\u001b[0;32m     10\u001b[0m \u001b[1;33m\u001b[0m\u001b[0m\n",
      "\u001b[1;32mG:\\Desktop\\cs231n\\assignment1\\cs231n\\classifiers\\softmax.py\u001b[0m in \u001b[0;36msoftmax_loss_naive\u001b[1;34m(W, X, y, reg)\u001b[0m\n\u001b[0;32m     60\u001b[0m         \u001b[1;32mfor\u001b[0m \u001b[0mj\u001b[0m \u001b[1;32min\u001b[0m \u001b[0mrange\u001b[0m\u001b[1;33m(\u001b[0m\u001b[0mC\u001b[0m\u001b[1;33m)\u001b[0m\u001b[1;33m:\u001b[0m\u001b[1;33m\u001b[0m\u001b[0m\n\u001b[0;32m     61\u001b[0m             \u001b[1;32mfor\u001b[0m \u001b[0mk\u001b[0m \u001b[1;32min\u001b[0m \u001b[0mrange\u001b[0m\u001b[1;33m(\u001b[0m\u001b[0mD\u001b[0m\u001b[1;33m)\u001b[0m\u001b[1;33m:\u001b[0m\u001b[1;33m\u001b[0m\u001b[0m\n\u001b[1;32m---> 62\u001b[1;33m                 \u001b[0mout\u001b[0m\u001b[1;33m[\u001b[0m\u001b[0mi\u001b[0m\u001b[1;33m,\u001b[0m \u001b[0mj\u001b[0m\u001b[1;33m]\u001b[0m \u001b[1;33m+=\u001b[0m \u001b[0mX\u001b[0m\u001b[1;33m[\u001b[0m\u001b[0mi\u001b[0m\u001b[1;33m,\u001b[0m \u001b[0mk\u001b[0m\u001b[1;33m]\u001b[0m \u001b[1;33m*\u001b[0m \u001b[0mW\u001b[0m\u001b[1;33m[\u001b[0m\u001b[0mk\u001b[0m\u001b[1;33m,\u001b[0m \u001b[0mj\u001b[0m\u001b[1;33m]\u001b[0m\u001b[1;33m\u001b[0m\u001b[0m\n\u001b[0m\u001b[0;32m     63\u001b[0m \u001b[1;33m\u001b[0m\u001b[0m\n\u001b[0;32m     64\u001b[0m         \u001b[0mout\u001b[0m\u001b[1;33m[\u001b[0m\u001b[0mi\u001b[0m\u001b[1;33m,\u001b[0m \u001b[1;33m:\u001b[0m\u001b[1;33m]\u001b[0m \u001b[1;33m=\u001b[0m \u001b[0mnp\u001b[0m\u001b[1;33m.\u001b[0m\u001b[0mexp\u001b[0m\u001b[1;33m(\u001b[0m\u001b[0mout\u001b[0m\u001b[1;33m[\u001b[0m\u001b[0mi\u001b[0m\u001b[1;33m,\u001b[0m \u001b[1;33m:\u001b[0m\u001b[1;33m]\u001b[0m\u001b[1;33m)\u001b[0m\u001b[1;33m\u001b[0m\u001b[0m\n",
      "\u001b[1;31mKeyboardInterrupt\u001b[0m: "
     ]
    }
   ],
   "source": [
    "# Complete the implementation of softmax_loss_naive and implement a (naive)\n",
    "# version of the gradient that uses nested loops.\n",
    "loss, grad = softmax_loss_naive(W, X_dev, y_dev, 0.0)\n",
    "\n",
    "# As we did for the SVM, use numeric gradient checking as a debugging tool.\n",
    "# The numeric gradient should be close to the analytic gradient.\n",
    "from cs231n.gradient_check import grad_check_sparse\n",
    "f = lambda w: softmax_loss_naive(w, X_dev, y_dev, 0.0)[0]\n",
    "grad_numerical = grad_check_sparse(f, W, grad, 10)\n",
    "\n",
    "# similar to SVM case, do another gradient check with regularization\n",
    "loss, grad = softmax_loss_naive(W, X_dev, y_dev, 5e1)\n",
    "f = lambda w: softmax_loss_naive(w, X_dev, y_dev, 5e1)[0]\n",
    "grad_numerical = grad_check_sparse(f, W, grad, 10)"
   ]
  },
  {
   "cell_type": "code",
   "execution_count": 34,
   "metadata": {},
   "outputs": [
    {
     "name": "stdout",
     "output_type": "stream",
     "text": [
      "naive loss: 2.302181e+00 computed in 28.619295s\n",
      "vectorized loss: 2.302181e+00 computed in 0.005982s\n",
      "Loss difference: 0.000000\n",
      "Gradient difference: 0.000000\n"
     ]
    }
   ],
   "source": [
    "# Now that we have a naive implementation of the softmax loss function and its gradient,\n",
    "# implement a vectorized version in softmax_loss_vectorized.\n",
    "# The two versions should compute the same results, but the vectorized version should be\n",
    "# much faster.\n",
    "tic = time.time()\n",
    "loss_naive, grad_naive = softmax_loss_naive(W, X_dev, y_dev, 0.000005)\n",
    "toc = time.time()\n",
    "print('naive loss: %e computed in %fs' % (loss_naive, toc - tic))\n",
    "\n",
    "from cs231n.classifiers.softmax import softmax_loss_vectorized\n",
    "tic = time.time()\n",
    "loss_vectorized, grad_vectorized = softmax_loss_vectorized(W, X_dev, y_dev, 0.000005)\n",
    "toc = time.time()\n",
    "print('vectorized loss: %e computed in %fs' % (loss_vectorized, toc - tic))\n",
    "\n",
    "# As we did for the SVM, we use the Frobenius norm to compare the two versions\n",
    "# of the gradient.\n",
    "grad_difference = np.linalg.norm(grad_naive - grad_vectorized, ord='fro')\n",
    "print('Loss difference: %f' % np.abs(loss_naive - loss_vectorized))\n",
    "print('Gradient difference: %f' % grad_difference)"
   ]
  },
  {
   "cell_type": "code",
   "execution_count": 40,
   "metadata": {
    "tags": [
     "code"
    ]
   },
   "outputs": [
    {
     "name": "stdout",
     "output_type": "stream",
     "text": [
      "iteration 0 / 500: loss 157.163047\n",
      "iteration 100 / 500: loss 128.160466\n",
      "iteration 200 / 500: loss 104.604453\n",
      "iteration 300 / 500: loss 86.006989\n",
      "iteration 400 / 500: loss 70.235372\n",
      "iteration 0 / 500: loss 141.103359\n",
      "iteration 100 / 500: loss 86.212028\n",
      "iteration 200 / 500: loss 52.997770\n",
      "iteration 300 / 500: loss 32.806901\n",
      "iteration 400 / 500: loss 20.680436\n",
      "iteration 0 / 500: loss 20.176559\n",
      "iteration 100 / 500: loss 10.166951\n",
      "iteration 200 / 500: loss 5.695348\n",
      "iteration 300 / 500: loss 3.650250\n",
      "iteration 400 / 500: loss 2.780223\n",
      "iteration 0 / 500: loss 2.527572\n",
      "iteration 100 / 500: loss 2.275573\n",
      "iteration 200 / 500: loss 2.115792\n",
      "iteration 300 / 500: loss 2.052184\n",
      "iteration 400 / 500: loss 2.050799\n",
      "iteration 0 / 500: loss 2.002353\n",
      "iteration 100 / 500: loss 1.987582\n",
      "iteration 200 / 500: loss 1.979279\n",
      "iteration 300 / 500: loss 1.949658\n",
      "iteration 400 / 500: loss 2.022906\n",
      "iteration 0 / 500: loss 2.089408\n",
      "iteration 100 / 500: loss 2.110783\n",
      "iteration 200 / 500: loss 2.053108\n",
      "iteration 300 / 500: loss 2.031271\n",
      "iteration 400 / 500: loss 2.064990\n",
      "iteration 0 / 500: loss 2.146635\n",
      "iteration 100 / 500: loss 2.050032\n",
      "iteration 200 / 500: loss 2.024274\n",
      "iteration 300 / 500: loss 2.054248\n",
      "iteration 400 / 500: loss 2.017788\n",
      "iteration 0 / 500: loss 2.042518\n",
      "iteration 100 / 500: loss 2.105443\n",
      "iteration 200 / 500: loss 2.137858\n",
      "iteration 300 / 500: loss 2.030300\n",
      "iteration 400 / 500: loss 2.086932\n",
      "iteration 0 / 500: loss 2.006443\n",
      "iteration 100 / 500: loss 1.973163\n",
      "iteration 200 / 500: loss 1.929553\n",
      "iteration 300 / 500: loss 1.924300\n",
      "iteration 400 / 500: loss 1.936775\n",
      "iteration 0 / 500: loss 2.039730\n",
      "iteration 100 / 500: loss 2.068135\n",
      "iteration 200 / 500: loss 1.974113\n",
      "iteration 300 / 500: loss 2.053980\n",
      "iteration 400 / 500: loss 2.041531\n",
      "iteration 0 / 500: loss 2.102612\n",
      "iteration 100 / 500: loss 2.023187\n",
      "iteration 200 / 500: loss 2.130855\n",
      "iteration 300 / 500: loss 2.047579\n",
      "iteration 400 / 500: loss 2.032425\n",
      "iteration 0 / 500: loss 2.048261\n",
      "iteration 100 / 500: loss 2.161829\n",
      "iteration 200 / 500: loss 2.066193\n",
      "iteration 300 / 500: loss 2.075805\n",
      "iteration 400 / 500: loss 2.092081\n",
      "iteration 0 / 500: loss 1.964770\n",
      "iteration 100 / 500: loss 2.030939\n",
      "iteration 200 / 500: loss 1.983632\n",
      "iteration 300 / 500: loss 1.930550\n",
      "iteration 400 / 500: loss 1.870458\n",
      "iteration 0 / 500: loss 2.114491\n",
      "iteration 100 / 500: loss 1.997481\n",
      "iteration 200 / 500: loss 1.980076\n",
      "iteration 300 / 500: loss 2.105585\n",
      "iteration 400 / 500: loss 1.976846\n",
      "iteration 0 / 500: loss 2.130393\n",
      "iteration 100 / 500: loss 2.144615\n",
      "iteration 200 / 500: loss 2.044138\n",
      "iteration 300 / 500: loss 2.105343\n",
      "iteration 400 / 500: loss 2.058562\n",
      "iteration 0 / 500: loss 2.092919\n",
      "iteration 100 / 500: loss 2.075307\n",
      "iteration 200 / 500: loss 2.087830\n",
      "iteration 300 / 500: loss 2.081586\n",
      "iteration 400 / 500: loss 2.058767\n",
      "iteration 0 / 500: loss 1.977723\n",
      "iteration 100 / 500: loss 1.941518\n",
      "iteration 200 / 500: loss 1.942052\n",
      "iteration 300 / 500: loss 1.926485\n",
      "iteration 400 / 500: loss 1.922459\n",
      "iteration 0 / 500: loss 2.066671\n",
      "iteration 100 / 500: loss 2.003253\n",
      "iteration 200 / 500: loss 2.001543\n",
      "iteration 300 / 500: loss 1.996946\n",
      "iteration 400 / 500: loss 2.021779\n",
      "iteration 0 / 500: loss 2.124608\n",
      "iteration 100 / 500: loss 2.034689\n",
      "iteration 200 / 500: loss 2.029022\n",
      "iteration 300 / 500: loss 2.169526\n",
      "iteration 400 / 500: loss 2.052911\n",
      "iteration 0 / 500: loss 2.128367\n",
      "iteration 100 / 500: loss 2.055677\n",
      "iteration 200 / 500: loss 2.085271\n",
      "iteration 300 / 500: loss 2.078032\n",
      "iteration 400 / 500: loss 2.085789\n",
      "lr 1.000000e-07 reg 1.000000e+04 train accuracy: 0.221306 val accuracy: 0.242000\n",
      "lr 1.000000e-07 reg 2.500000e+04 train accuracy: 0.314673 val accuracy: 0.332000\n",
      "lr 1.000000e-07 reg 4.000000e+04 train accuracy: 0.336857 val accuracy: 0.343000\n",
      "lr 1.000000e-07 reg 5.000000e+04 train accuracy: 0.330204 val accuracy: 0.344000\n",
      "lr 2.000000e-07 reg 1.000000e+04 train accuracy: 0.369673 val accuracy: 0.391000\n",
      "lr 2.000000e-07 reg 2.500000e+04 train accuracy: 0.352469 val accuracy: 0.369000\n",
      "lr 2.000000e-07 reg 4.000000e+04 train accuracy: 0.331959 val accuracy: 0.339000\n",
      "lr 2.000000e-07 reg 5.000000e+04 train accuracy: 0.329184 val accuracy: 0.338000\n",
      "lr 3.000000e-07 reg 1.000000e+04 train accuracy: 0.369551 val accuracy: 0.382000\n",
      "lr 3.000000e-07 reg 2.500000e+04 train accuracy: 0.350755 val accuracy: 0.365000\n",
      "lr 3.000000e-07 reg 4.000000e+04 train accuracy: 0.332592 val accuracy: 0.344000\n",
      "lr 3.000000e-07 reg 5.000000e+04 train accuracy: 0.323020 val accuracy: 0.346000\n",
      "lr 4.000000e-07 reg 1.000000e+04 train accuracy: 0.371000 val accuracy: 0.383000\n",
      "lr 4.000000e-07 reg 2.500000e+04 train accuracy: 0.344592 val accuracy: 0.366000\n",
      "lr 4.000000e-07 reg 4.000000e+04 train accuracy: 0.337224 val accuracy: 0.349000\n",
      "lr 4.000000e-07 reg 5.000000e+04 train accuracy: 0.323000 val accuracy: 0.334000\n",
      "lr 5.000000e-07 reg 1.000000e+04 train accuracy: 0.374980 val accuracy: 0.376000\n",
      "lr 5.000000e-07 reg 2.500000e+04 train accuracy: 0.348286 val accuracy: 0.356000\n",
      "lr 5.000000e-07 reg 4.000000e+04 train accuracy: 0.335857 val accuracy: 0.355000\n",
      "lr 5.000000e-07 reg 5.000000e+04 train accuracy: 0.321816 val accuracy: 0.335000\n",
      "best validation accuracy achieved during cross-validation: 0.391000\n"
     ]
    }
   ],
   "source": [
    "# Use the validation set to tune hyperparameters (regularization strength and\n",
    "# learning rate). You should experiment with different ranges for the learning\n",
    "# rates and regularization strengths; if you are careful you should be able to\n",
    "# get a classification accuracy of over 0.35 on the validation set.\n",
    "from cs231n.classifiers import Softmax\n",
    "results = {}\n",
    "best_val = -1\n",
    "best_softmax = None\n",
    "learning_rates = [1e-7, 2e-7, 3e-7, 4e-7, 5e-7]\n",
    "regularization_strengths = [1e4, 2.5e4, 4e4, 5e4]\n",
    "\n",
    "################################################################################\n",
    "# TODO:                                                                        #\n",
    "# Use the validation set to set the learning rate and regularization strength. #\n",
    "# This should be identical to the validation that you did for the SVM; save    #\n",
    "# the best trained softmax classifer in best_softmax.                          #\n",
    "################################################################################\n",
    "# *****START OF YOUR CODE (DO NOT DELETE/MODIFY THIS LINE)*****\n",
    "\n",
    "classifier = Softmax()\n",
    "for lr in learning_rates:\n",
    "    for reg in regularization_strengths:\n",
    "        classifier.train(X_train,y_train,learning_rate=lr,reg=reg,\n",
    "                         num_iters=500,verbose=True)\n",
    "        y_val_pred = classifier.predict(X_val)\n",
    "        y_train_pred = classifier.predict(X_train)\n",
    "        \n",
    "        val_accuracy = np.mean(y_val_pred == y_val)\n",
    "        train_accuracy = np.mean(y_train_pred == y_train)\n",
    "        \n",
    "        results[(lr,reg)] = (train_accuracy,val_accuracy)\n",
    "        \n",
    "        if val_accuracy > best_val:\n",
    "            best_val = val_accuracy\n",
    "            best_softmax = classifier\n",
    "        \n",
    "\n",
    "# *****END OF YOUR CODE (DO NOT DELETE/MODIFY THIS LINE)*****\n",
    "    \n",
    "# Print out results.\n",
    "for lr, reg in sorted(results):\n",
    "    train_accuracy, val_accuracy = results[(lr, reg)]\n",
    "    print('lr %e reg %e train accuracy: %f val accuracy: %f' % (\n",
    "                lr, reg, train_accuracy, val_accuracy))\n",
    "    \n",
    "print('best validation accuracy achieved during cross-validation: %f' % best_val)"
   ]
  },
  {
   "cell_type": "code",
   "execution_count": 38,
   "metadata": {},
   "outputs": [
    {
     "name": "stdout",
     "output_type": "stream",
     "text": [
      "softmax on raw pixels final test set accuracy: 0.353000\n"
     ]
    }
   ],
   "source": [
    "# evaluate on test set\n",
    "# Evaluate the best softmax on test set\n",
    "y_test_pred = best_softmax.predict(X_test)\n",
    "test_accuracy = np.mean(y_test == y_test_pred)\n",
    "print('softmax on raw pixels final test set accuracy: %f' % (test_accuracy, ))"
   ]
  },
  {
   "cell_type": "markdown",
   "metadata": {
    "tags": [
     "pdf-inline"
    ]
   },
   "source": [
    "**Inline Question 2** - *True or False*\n",
    "\n",
    "Suppose the overall training loss is defined as the sum of the per-datapoint loss over all training examples. It is possible to add a new datapoint to a training set that would leave the SVM loss unchanged, but this is not the case with the Softmax classifier loss.\n",
    "\n",
    "$\\color{blue}{\\textit Your Answer:}$ True\n",
    "\n",
    "$\\color{blue}{\\textit Your Explanation:}$\n"
   ]
  },
  {
   "cell_type": "code",
   "execution_count": 39,
   "metadata": {},
   "outputs": [
    {
     "data": {
      "image/png": "[encoded data removed]",
      "text/plain": [
       "<matplotlib.figure.Figure at 0x1fd00ef57b8>"
      ]
     },
     "metadata": {},
     "output_type": "display_data"
    }
   ],
   "source": [
    "# Visualize the learned weights for each class\n",
    "w = best_softmax.W[:-1,:] # strip out the bias\n",
    "w = w.reshape(32, 32, 3, 10)\n",
    "\n",
    "w_min, w_max = np.min(w), np.max(w)\n",
    "\n",
    "classes = ['plane', 'car', 'bird', 'cat', 'deer', 'dog', 'frog', 'horse', 'ship', 'truck']\n",
    "for i in range(10):\n",
    "    plt.subplot(2, 5, i + 1)\n",
    "    \n",
    "    # Rescale the weights to be between 0 and 255\n",
    "    wimg = 255.0 * (w[:, :, :, i].squeeze() - w_min) / (w_max - w_min)\n",
    "    plt.imshow(wimg.astype('uint8'))\n",
    "    plt.axis('off')\n",
    "    plt.title(classes[i])"
   ]
  },
  {
   "cell_type": "code",
   "execution_count": null,
   "metadata": {},
   "outputs": [],
   "source": []
  }
 ],
 "metadata": {
  "kernelspec": {
   "display_name": "Python 3",
   "language": "python",
   "name": "python3"
  },
  "language_info": {
   "codemirror_mode": {
    "name": "ipython",
    "version": 3
   },
   "file_extension": ".py",
   "mimetype": "text/x-python",
   "name": "python",
   "nbconvert_exporter": "python",
   "pygments_lexer": "ipython3",
   "version": "3.6.4"
  }
 },
 "nbformat": 4,
 "nbformat_minor": 1
}
